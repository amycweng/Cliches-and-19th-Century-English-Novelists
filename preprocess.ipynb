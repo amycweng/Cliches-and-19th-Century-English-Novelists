{
 "cells": [
  {
   "cell_type": "code",
   "execution_count": 3,
   "metadata": {},
   "outputs": [],
   "source": [
    "import csv \n",
    "import re,os\n",
    "# ! pip install gutenbergpy\n",
    "import gutenbergpy.textget\n",
    "\n",
    "with open('english_novelists.csv','r') as file: \n",
    "    csv_file = csv.reader(file)\n",
    "    next(csv_file) # skip header \n",
    "    for line in csv_file:\n",
    "        name = line[1]\n",
    "        if name not in os.listdir('novels'): \n",
    "            os.mkdir(f'novels/{name}')\n",
    "        text_ids = re.findall(\"\\{'gutenberg_id': '(\\d+)',\", line[8])\n",
    "        for text_id in text_ids: \n",
    "            book = gutenbergpy.textget.get_text_by_id(text_id) \n",
    "            book = gutenbergpy.textget.strip_headers(book) # remove headers\n",
    "            book = book.decode(\"utf-8\",errors='ignore') # turn bytes into string\n",
    "            book = re.sub('\\n','  ',book)\n",
    "            book = re.sub(r'[^a-zA-Z\\s]','', book.lower())\n",
    "            book = re.sub('\\s+',' ',book)\n",
    "            with open(f'novels/{name}/{text_id}.txt','w+') as file: \n",
    "                file.write(book.strip())           "
   ]
  }
 ],
 "metadata": {
  "kernelspec": {
   "display_name": "base",
   "language": "python",
   "name": "python3"
  },
  "language_info": {
   "codemirror_mode": {
    "name": "ipython",
    "version": 3
   },
   "file_extension": ".py",
   "mimetype": "text/x-python",
   "name": "python",
   "nbconvert_exporter": "python",
   "pygments_lexer": "ipython3",
   "version": "3.9.7"
  },
  "orig_nbformat": 4
 },
 "nbformat": 4,
 "nbformat_minor": 2
}
