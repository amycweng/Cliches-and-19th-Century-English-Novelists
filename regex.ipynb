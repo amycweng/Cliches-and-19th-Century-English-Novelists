{
 "cells": [
  {
   "cell_type": "code",
   "execution_count": 1,
   "id": "eb7c15b6",
   "metadata": {},
   "outputs": [],
   "source": [
    "import csv\n",
    "import re\n",
    "import pandas as pd\n",
    "import numpy as np\n",
    "import tqdm"
   ]
  },
  {
   "cell_type": "code",
   "execution_count": 26,
   "id": "2d98c11a",
   "metadata": {
    "scrolled": true
   },
   "outputs": [
    {
     "name": "stdout",
     "output_type": "stream",
     "text": [
      "'tis the season\n",
      "\n"
     ]
    }
   ],
   "source": [
    "# read in cliches\n",
    "with open('/Users/hollycui/Desktop/cliches.txt', 'r') as file:\n",
    "    print(file.readline())"
   ]
  },
  {
   "cell_type": "markdown",
   "id": "486fe3cd",
   "metadata": {},
   "source": [
    "# Regex operations we will be using:"
   ]
  },
  {
   "cell_type": "code",
   "execution_count": 32,
   "id": "24cbc574",
   "metadata": {
    "collapsed": true
   },
   "outputs": [
    {
     "name": "stdout",
     "output_type": "stream",
     "text": [
      "None\n"
     ]
    }
   ],
   "source": [
    "# Lowercase everything!\n",
    "# remove punctuations? s/[,:;?!.-]//g\n",
    "# number digits\n",
    "# optional the/a/an\n",
    "\n",
    "# unicode whitespace\n",
    "s/\\xc2\\x91\\|\\xc2\\x92\\|\\xc2\\xa0\\|\\xe2\\x80\\x8e/ /;\n",
    "\n",
    "# remove trailing material in parentheses/brackets\n",
    "s/([^()]*)\\s*$//g;  # original - remove anything after a parenthesis\n",
    "#s/\\([^()]*\\)//g     # mine - remove the parenthese\n",
    "\n",
    "# remaining parenthesized material becomes optional\n",
    "s/( *\\([^()]*\\S\\) *) */(?:\\1 )?/g;  \n",
    "\n",
    "# normalize punctuation\n",
    "s/…/.../g;\n",
    "s/’/'/g;\n",
    "s/­/-/g;\n",
    "\n",
    "# escape ? and .\n",
    "s/?/ \\\\?/g;\n",
    "s/!/ !/g;\n",
    "s/\\([^.]\\)\\./\\1 ./g;\n",
    "s/\\./\\\\./g;\n",
    "s/:/ :/g;\n",
    "                                  \n",
    "# recover short form - 's - two meanings, 'm, 're, 've, 'd\n",
    "# is/am/are -> be\n",
    "s/\\bis\\b/&\\/am\\/are\\/was\\/were\\/been\\/'s\\/'m\\/'re/g;\n",
    "s/\\bhave\\b/&\\/has\\/had\\/'ve/g;\n",
    "s/\\bshould\\b/&\\/would\\/could\\/'d\\/must/g;\n",
    "s/\\bn't\\b/&\\/ not/g;\n",
    "s/\\bdo\\b/&\\/does\\/did\\/done/g;                            \n",
    "\n",
    "# alternative pronouns\n",
    "s/\\bshe\\b/&\\/he\\/it\\/they\\/you\\/i/g;\n",
    "s/\\bher\\b/&\\/his\\/its\\/their\\/theirs\\/your\\/yours\\/mine\\/me/g;\n",
    "s/\\bherself\\b/&\\/himself\\/itself\\/themself\\/themselves\\/yourself\\/myself/g;          \n",
    "\n",
    "# remaining alternatives: A/B => (?:A|B)\n",
    "s/\\( *\\)\\([-'\\A-Za-z]\\+\\( *\\/ *[-'A-Za-z]\\+\\)\\+\\)\\( *\\)/\\1(?:\\2)\\4/g;\n",
    "s/ *\\/ */|/g;\n",
    "\n",
    "# tokenize punctuation\n",
    "s/\\(\\S\\)\\([,;\"!]\\)\\(\\S\\)/\\1 \\2 \\3/g;\n",
    "s/\\( [,;\"]\\)\\(\\S\\)/\\1 \\2/g;\n",
    "s/\\(\\S\\)\\([,;\"!] \\)/\\1 \\2/g;\n",
    "\n",
    "# trim white space\n",
    "s/\\s+/ /g;\n",
    "\n",
    "# remove empty lines\n",
    "/^\\s*$/d;\n",
    "                          "
   ]
  },
  {
   "cell_type": "markdown",
   "id": "09535aca",
   "metadata": {},
   "source": [
    "# Other operations in the paper we will not use:"
   ]
  },
  {
   "cell_type": "code",
   "execution_count": null,
   "id": "c00e42bb",
   "metadata": {},
   "outputs": [],
   "source": [
    "# remove trailing material in brackets\n",
    "s/\\[[^][]*\\]\\s*$//g;\n",
    "\n",
    "# remove anything in angular brackets/hashtag nonsense\n",
    "s/<[^<>]*>//g;\n",
    "s/#\\S+//g;\n",
    "\n",
    "# replace / where between [...]\n",
    ":a; s/\\(\\[[^][]*\\)\\//\\1|/; ta\n",
    "\n",
    "# allow unaccented form of accents\n",
    "s/\\([äáàâ]\\)/[\\1a]/g;\n",
    "s/\\([éèêë]\\)/[\\1e]/g;\n",
    "s/\\([íîï]\\)/[\\1i]/g;\n",
    "s/\\([ôö]\\)/[\\1o]/g;\n",
    "s/\\([üûù]\\)/[\\1u]/g;\n",
    "          \n",
    "# trim spurious alternations\n",
    "s/^|//g;\n",
    "s/|\\s*$//g;\n",
    "          \n",
    "\n",
    "# allow different kinds of sentence ending punctuation\n",
    "s/ \\(\\\\?\\|\\\\\\.\\|!\\)\\s*$/ [.?!'\"]/g;\n",
    "\n",
    "# material in square brackets can be 1-3 words\n",
    "s/\\[[^][]*\\] */(?:[-\\\\w]+ ){1,3}/g;\n",
    "\n",
    "# alternative pronouns\n",
    "s/\\b'm\\b/ &\\/hem/g;\n",
    "s/\\bd'r\\b/&\\/er\\/haar/g;\n",
    "s/\\bhij\\b/&\\/zij\\/ze/g;\n",
    "s/\\bm'n\\b/&\\/mijn/g;\n",
    "s/\\bnu\\b/&\\/nou/g;\n",
    "s/\\bvrouw\\b/&\\/man\\/vent/g;\n",
    "s/\\bvader\\b/&\\/moeder\\/ouders/g;\n",
    "s/-ie\\b/(?:&| ie| hij)/g;\n",
    "\n",
    "# cliche with initial caps should match from start of (quoted) sentence\n",
    "s/^\\(\\((?:\\)*\\[\\?[A-Z]\\)/(?:^|' )\\1/g\n",
    "\n",
    "\n",
    "# make leading interjections optional\n",
    "s/\\(^\\|)\\)\\(ach ja\\|ach joh\\|ach kom\\|ach\\|afijn\\|aha\\?\\|bah\\|deksels\\|donders\\|en toch\\|enfin\\|excuses\\|gadverdamme\\|god bewaar me\\|godallemachtig\\|goddank\\|goddome\\|goeiemorgen\\|gossie\\|gossiemijne\\|grutjes\\|gunst\\|gut\\|ha\\|hallo\\|he\\|hee\\|hehe\\|helaas\\|hemel\\|hemeltjelief\\|heremijntijd\\|hoera\\|hup\\|inderdaad\\|ja ja\\|ja maar\\|ja\\|jaja\\|jakkes\\|jandorie\\|jasses\\|jawel\\|jee\\|jeetje\\|jeminee\\|jep\\|jezus-christus\\|jezus\\|joepie\\|joh\\|jup\\|kijk\\|komaan\\|lieve hemel\\|maar toch\\|maar\\|mijn hemel\\|nee maar\\|nee\\|nja\\|nou en of\\|nou hup\\|nou nou\\|nou\\|nu\\|oh\\? ja\\|oh\\? nee\\|oh\\?\\|och\\|oef\\|oh god\\|oh oh\\|oh\\?\\|ok\\|oké\\|okee\\|okido\\|okidoki\\|poeh\\|potdorie\\|sapperloot\\|shit\\|sjonge\\|snotverdomme\\|sorry\\|st\\|tja\\|toe maar\\|vedomme\\|verdorie\\|verrek\\|wel\\|welja\\|zeg\\|zo\\) [,!?] /\\1(?:\\2 [,!?] )?/gI\n",
    "# st ?\n",
    "\n",
    "# make trailing interjections optional\n",
    "s/, \\([A-Z]\\w+\\|ach\\|blijkbaar\\|excuses\\|goddank\\|he\\|hee\\|hoera\\|hoor\\|ja\\|joh\\|kennelijk\\|maar toch\\|nee\\|nietwaar\\|sorry\\|toch\\|verdomme\\|verdorie\\|zeg\\) *\\([.?!'\"]\\)/(?:, \\1)? \\2/gI\n",
    "\n",
    "# make ellipsis optional\n",
    "s/\\.\\.\\.\\( *\\)/(?:\\.\\.\\.\\1)?/g;\n",
    "        \n",
    "# single letter variables can be any single word\n",
    "s/\\b\\(\\(ge\\|door\\)-\\)\\?[xyzXYZABC]\\(-\\|'\\(en\\|er\\|t\\|d\\)\\)\\? /\\2\\\\w+\\4 /g;"
   ]
  }
 ],
 "metadata": {
  "kernelspec": {
   "display_name": "Python 3",
   "language": "python",
   "name": "python3"
  },
  "language_info": {
   "codemirror_mode": {
    "name": "ipython",
    "version": 3
   },
   "file_extension": ".py",
   "mimetype": "text/x-python",
   "name": "python",
   "nbconvert_exporter": "python",
   "pygments_lexer": "ipython3",
   "version": "3.8.8"
  }
 },
 "nbformat": 4,
 "nbformat_minor": 5
}
