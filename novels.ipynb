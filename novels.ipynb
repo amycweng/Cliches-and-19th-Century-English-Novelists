{
 "cells": [
  {
   "cell_type": "code",
   "execution_count": 119,
   "metadata": {},
   "outputs": [
    {
     "name": "stdout",
     "output_type": "stream",
     "text": [
      "356\n"
     ]
    }
   ],
   "source": [
    "import csv \n",
    "import re\n",
    "novelists = []\n",
    "with open('authors.csv','r') as file: \n",
    "    csv_file = csv.reader(file)\n",
    "    for line in csv_file: \n",
    "        if len(line[0]) == 1: \n",
    "            continue\n",
    "        else: \n",
    "            name = re.sub(f'\\(.*?\\)','',line[0])\n",
    "            name = name.split(' ')\n",
    "            novelists.append(f'{name[-1]}, {\" \".join(name[:-1])}')\n",
    "print(len(novelists))"
   ]
  },
  {
   "cell_type": "code",
   "execution_count": 153,
   "metadata": {},
   "outputs": [],
   "source": [
    "# Text#,Type,Issued,Title,Language,Authors,Subjects\n",
    "# 0     1    2      3     4        5,      6\n",
    "found = {author: [] for author in novelists}\n",
    "with open('pg_catalog.csv','r') as file:\n",
    "    csv_file = csv.reader(file)\n",
    "    next(csv_file)\n",
    "    for line in csv_file:\n",
    "        if len(line) < 6: \n",
    "            continue \n",
    "        if line[1] != 'Text': \n",
    "            continue\n",
    "        if not re.search('fiction|Fiction', line[6]):\n",
    "            continue\n",
    "        if line[4] != 'en': \n",
    "            continue\n",
    "        author = line[5]\n",
    "        if 'Translator' in author or 'Contributor' in author: \n",
    "            continue # only want original works by one author \n",
    "        for name in novelists: \n",
    "            if re.search(name,author):\n",
    "                found[name].append({'gutenberg_id':line[0],\n",
    "                                'title':line[3],\n",
    "                                'authors':line[5],\n",
    "                                'subjects': line[6]    \n",
    "                            })\n",
    "                break"
   ]
  },
  {
   "cell_type": "code",
   "execution_count": 159,
   "metadata": {},
   "outputs": [
    {
     "name": "stdout",
     "output_type": "stream",
     "text": [
      "1288\n"
     ]
    }
   ],
   "source": [
    "books = []\n",
    "for list in found.values(): \n",
    "    books.extend(list)\n",
    "print(len(books))"
   ]
  },
  {
   "cell_type": "code",
   "execution_count": 83,
   "metadata": {},
   "outputs": [],
   "source": [
    "'''\n",
    "Code from this file: \n",
    "https://github.com/MengtingWan/goodreads/blob/master/samples.ipynb\n",
    "'''\n",
    "import json\n",
    "import numpy as np\n",
    "def load_data(file_name):\n",
    "    data = []\n",
    "    with open(file_name) as fin:\n",
    "        for l in fin:\n",
    "            d = json.loads(l)\n",
    "            data.append(d)\n",
    "\n",
    "    return data\n",
    "\n",
    "authors = load_data('goodreads_book_authors.json')"
   ]
  },
  {
   "cell_type": "code",
   "execution_count": 155,
   "metadata": {},
   "outputs": [
    {
     "name": "stdout",
     "output_type": "stream",
     "text": [
      "97\n"
     ]
    }
   ],
   "source": [
    "gutenberg_authors = []\n",
    "for author, texts in found.items(): \n",
    "    if len(texts) > 0:\n",
    "        gutenberg_authors.append(author)\n",
    "\n",
    "def format_name(name): \n",
    "    name = name.split(',')\n",
    "    if re.search('\\w{1}\\. \\w{1}\\.',name[1]):\n",
    "        initials = re.findall('\\w{1}\\.',name[1])\n",
    "        name[1] = re.sub(f'{initials[0]} {initials[1]}',f'{initials[0]}{initials[1]}',name[1])\n",
    "    if 'ë' in name[0]:\n",
    "        name[0] = 'Bronte'\n",
    "    full_name = f'{name[1].strip()} {name[0].strip()}'\n",
    "    full_name = full_name.strip()\n",
    "    return full_name\n",
    "\n",
    "for idx, name in enumerate(gutenberg_authors): \n",
    "    gutenberg_authors[idx] = format_name(name)\n",
    "print(len(gutenberg_authors))"
   ]
  },
  {
   "cell_type": "code",
   "execution_count": 156,
   "metadata": {},
   "outputs": [],
   "source": [
    "found_goodreads = {}\n",
    "for dict in authors: \n",
    "    author = dict[\"name\"]\n",
    "    for name in gutenberg_authors: \n",
    "        if name == author:\n",
    "            found_goodreads[name] = dict\n",
    "            break"
   ]
  },
  {
   "cell_type": "code",
   "execution_count": 158,
   "metadata": {},
   "outputs": [],
   "source": [
    "mla = []\n",
    "\n",
    "outfile = open('english_novelists.csv', 'w')\n",
    "columns = [\n",
    "    'gutenberg_name', 'goodreads_name', 'num_mla_entries', 'alt_name',\n",
    "    'average_rating','author_id','text_reviews_count','ratings_count',\n",
    "    'gutenberg_texts'       \n",
    "]\n",
    "writer = csv.DictWriter(outfile, columns)\n",
    "writer.writeheader()\n",
    "with open('gutenberg_novelists.csv','r') as file: \n",
    "    csv_file = csv.reader(file)\n",
    "    next(csv_file)\n",
    "    for line in csv_file: \n",
    "        name = format_name(line[0])\n",
    "        if name in found_goodreads.keys(): \n",
    "            full_name = found[line[0]][0]['authors']\n",
    "            if ';' in full_name: \n",
    "                full_name = full_name.split('; ')\n",
    "                for entry in full_name: \n",
    "                    if line[0] in entry: \n",
    "                        full_name = entry \n",
    "                        break\n",
    "            goodreads_info = found_goodreads[name]\n",
    "            writer.writerow({\n",
    "                'gutenberg_name': full_name,\n",
    "                'goodreads_name': name, \n",
    "                'num_mla_entries': line[1],\n",
    "                'alt_name': line[2],\n",
    "                'average_rating':goodreads_info['average_rating'],\n",
    "                'author_id':goodreads_info['author_id'],\n",
    "                'text_reviews_count':goodreads_info['text_reviews_count'],\n",
    "                'ratings_count':goodreads_info['ratings_count'],\n",
    "                'gutenberg_texts': found[line[0]]       \n",
    "            })\n",
    "outfile.close()"
   ]
  },
  {
   "cell_type": "code",
   "execution_count": 135,
   "metadata": {},
   "outputs": [],
   "source": [
    "# ! pip install gutenbergpy\n",
    "import gutenbergpy.textget\n",
    "gutenberg_id = 105 # Persuasion by Jane Austen\n",
    "book = gutenbergpy.textget.get_text_by_id(gutenberg_id) \n",
    "book = gutenbergpy.textget.strip_headers(book) # remove headers\n",
    "book = book.decode(\"utf-8\") # turn bytes into string "
   ]
  }
 ],
 "metadata": {
  "kernelspec": {
   "display_name": "base",
   "language": "python",
   "name": "python3"
  },
  "language_info": {
   "codemirror_mode": {
    "name": "ipython",
    "version": 3
   },
   "file_extension": ".py",
   "mimetype": "text/x-python",
   "name": "python",
   "nbconvert_exporter": "python",
   "pygments_lexer": "ipython3",
   "version": "3.9.7"
  },
  "orig_nbformat": 4
 },
 "nbformat": 4,
 "nbformat_minor": 2
}
